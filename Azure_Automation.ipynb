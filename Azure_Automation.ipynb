{
  "cells": [
    {
      "cell_type": "code",
      "source": [
        "from azureml.core import Workspace, Dataset\r\n",
        "\r\n",
        "\r\n",
        "subscription_id = '05ed07e3-df05-46ff-8687-8555449022bb'\r\n",
        "resource_group = 'ML-resources'\r\n",
        "workspace_name = 'ML-resources'\r\n",
        "\r\n",
        "workspace = Workspace(subscription_id, resource_group, workspace_name)\r\n",
        "\r\n",
        "dataset = Dataset.get_by_name(workspace, name='CZ-FPZ_train_data')\r\n",
        "dataset.to_pandas_dataframe()\r\n"
      ],
      "outputs": [
        {
          "output_type": "execute_result",
          "execution_count": 1,
          "data": {
            "text/plain": "    Column2    0           1           2           3           4           5  \\\n0    TrName  NaN         NaN         NaN         NaN         NaN         NaN   \n1    CZ-FPZ  0.0 -260.744016 -226.484710 -192.273677 -158.101013 -123.966777   \n2    CZ-FPZ  1.0   -3.681267    2.660507    9.006182   15.345819   21.669502   \n3    CZ-FPZ  0.0  -71.606120  -64.131611  -56.657493  -49.203859  -41.750789   \n4    CZ-FPZ  0.0 -133.680740 -118.116366 -102.581792  -87.057179  -71.552675   \n..      ...  ...         ...         ...         ...         ...         ...   \n658  CZ-FPZ  0.0 -122.997418 -110.224932  -97.453754  -84.704039  -71.965929   \n659  CZ-FPZ  0.0 -176.319144 -159.898675 -143.508742 -127.139496 -110.781078   \n660  CZ-FPZ  1.0  -39.324483  -31.901778  -24.479401  -17.067386   -9.675750   \n661  CZ-FPZ  0.0 -143.138357  -94.604604  -46.129784    2.306009   50.692729   \n662  CZ-FPZ  0.0 -219.823451 -190.186304 -160.581235 -131.008305 -101.467542   \n\n             6           7           8  ...       2990       2991       2992  \\\n0          NaN         NaN         NaN  ...        NaN        NaN        NaN   \n1   -89.870994  -55.813647  -21.794686  ...   3.217963  -3.064559  -2.457499   \n2    27.997310   34.309333   40.625661  ... -10.532356 -12.705987 -12.339189   \n3   -34.318354  -26.896610  -19.475612  ...   4.827849  -0.357951   0.476967   \n4   -56.078396  -40.614442  -25.180896  ...   2.608151  -5.374231  -4.514962   \n..         ...         ...         ...  ...        ...        ...        ...   \n658 -59.239558  -46.515052  -33.812523  ...   5.142774   0.721033   1.563562   \n659 -94.453602  -78.147157  -61.851821  ...   4.179946  -2.313527  -1.497134   \n660  -2.284504    5.086353   12.456830  ...   8.889631   5.796779   6.172738   \n661  99.030381  147.309023  195.548758  ...  10.681160   1.441736   2.009988   \n662 -71.958944  -42.482474  -13.038067  ... -11.352265 -14.751723 -14.271694   \n\n          2993       2994       2995       2996       2997       2998  \\\n0          NaN        NaN        NaN        NaN        NaN        NaN   \n1    -1.854431  -1.265309  -0.670088  -0.088719   0.498848   1.072670   \n2   -11.963205 -11.597941 -11.233299 -10.859188 -10.495514 -10.132176   \n3     1.309357   2.149125   2.976186   3.800461   4.631865   5.450322   \n4    -3.648763  -2.785720  -1.935908  -1.079401  -0.236271   0.613412   \n..         ...        ...        ...        ...        ...        ...   \n658   2.417558   3.262976   4.119770   4.967891   5.827292   6.677922   \n659  -0.684773   0.123487   0.927583   1.727457   2.523054   3.324318   \n660   6.545657   6.915507   7.282262   7.655894   8.016382   8.373714   \n661   2.580733   3.153918   3.729487   4.307385   4.887550   5.469922   \n662 -13.784123 -13.308918 -12.825983 -12.355218 -11.886519 -11.409789   \n\n          2999  \n0          NaN  \n1     1.652806  \n2    -9.759082  \n3     6.265761  \n4     1.459579  \n..         ...  \n658   7.539730  \n659   4.111204  \n660   8.727878  \n661   6.054436  \n662 -10.944924  \n\n[663 rows x 3001 columns]",
            "text/html": "<div>\n<style scoped>\n    .dataframe tbody tr th:only-of-type {\n        vertical-align: middle;\n    }\n\n    .dataframe tbody tr th {\n        vertical-align: top;\n    }\n\n    .dataframe thead th {\n        text-align: right;\n    }\n</style>\n<table border=\"1\" class=\"dataframe\">\n  <thead>\n    <tr style=\"text-align: right;\">\n      <th></th>\n      <th>Column2</th>\n      <th>0</th>\n      <th>1</th>\n      <th>2</th>\n      <th>3</th>\n      <th>4</th>\n      <th>5</th>\n      <th>6</th>\n      <th>7</th>\n      <th>8</th>\n      <th>...</th>\n      <th>2990</th>\n      <th>2991</th>\n      <th>2992</th>\n      <th>2993</th>\n      <th>2994</th>\n      <th>2995</th>\n      <th>2996</th>\n      <th>2997</th>\n      <th>2998</th>\n      <th>2999</th>\n    </tr>\n  </thead>\n  <tbody>\n    <tr>\n      <th>0</th>\n      <td>TrName</td>\n      <td>NaN</td>\n      <td>NaN</td>\n      <td>NaN</td>\n      <td>NaN</td>\n      <td>NaN</td>\n      <td>NaN</td>\n      <td>NaN</td>\n      <td>NaN</td>\n      <td>NaN</td>\n      <td>...</td>\n      <td>NaN</td>\n      <td>NaN</td>\n      <td>NaN</td>\n      <td>NaN</td>\n      <td>NaN</td>\n      <td>NaN</td>\n      <td>NaN</td>\n      <td>NaN</td>\n      <td>NaN</td>\n      <td>NaN</td>\n    </tr>\n    <tr>\n      <th>1</th>\n      <td>CZ-FPZ</td>\n      <td>0.0</td>\n      <td>-260.744016</td>\n      <td>-226.484710</td>\n      <td>-192.273677</td>\n      <td>-158.101013</td>\n      <td>-123.966777</td>\n      <td>-89.870994</td>\n      <td>-55.813647</td>\n      <td>-21.794686</td>\n      <td>...</td>\n      <td>3.217963</td>\n      <td>-3.064559</td>\n      <td>-2.457499</td>\n      <td>-1.854431</td>\n      <td>-1.265309</td>\n      <td>-0.670088</td>\n      <td>-0.088719</td>\n      <td>0.498848</td>\n      <td>1.072670</td>\n      <td>1.652806</td>\n    </tr>\n    <tr>\n      <th>2</th>\n      <td>CZ-FPZ</td>\n      <td>1.0</td>\n      <td>-3.681267</td>\n      <td>2.660507</td>\n      <td>9.006182</td>\n      <td>15.345819</td>\n      <td>21.669502</td>\n      <td>27.997310</td>\n      <td>34.309333</td>\n      <td>40.625661</td>\n      <td>...</td>\n      <td>-10.532356</td>\n      <td>-12.705987</td>\n      <td>-12.339189</td>\n      <td>-11.963205</td>\n      <td>-11.597941</td>\n      <td>-11.233299</td>\n      <td>-10.859188</td>\n      <td>-10.495514</td>\n      <td>-10.132176</td>\n      <td>-9.759082</td>\n    </tr>\n    <tr>\n      <th>3</th>\n      <td>CZ-FPZ</td>\n      <td>0.0</td>\n      <td>-71.606120</td>\n      <td>-64.131611</td>\n      <td>-56.657493</td>\n      <td>-49.203859</td>\n      <td>-41.750789</td>\n      <td>-34.318354</td>\n      <td>-26.896610</td>\n      <td>-19.475612</td>\n      <td>...</td>\n      <td>4.827849</td>\n      <td>-0.357951</td>\n      <td>0.476967</td>\n      <td>1.309357</td>\n      <td>2.149125</td>\n      <td>2.976186</td>\n      <td>3.800461</td>\n      <td>4.631865</td>\n      <td>5.450322</td>\n      <td>6.265761</td>\n    </tr>\n    <tr>\n      <th>4</th>\n      <td>CZ-FPZ</td>\n      <td>0.0</td>\n      <td>-133.680740</td>\n      <td>-118.116366</td>\n      <td>-102.581792</td>\n      <td>-87.057179</td>\n      <td>-71.552675</td>\n      <td>-56.078396</td>\n      <td>-40.614442</td>\n      <td>-25.180896</td>\n      <td>...</td>\n      <td>2.608151</td>\n      <td>-5.374231</td>\n      <td>-4.514962</td>\n      <td>-3.648763</td>\n      <td>-2.785720</td>\n      <td>-1.935908</td>\n      <td>-1.079401</td>\n      <td>-0.236271</td>\n      <td>0.613412</td>\n      <td>1.459579</td>\n    </tr>\n    <tr>\n      <th>...</th>\n      <td>...</td>\n      <td>...</td>\n      <td>...</td>\n      <td>...</td>\n      <td>...</td>\n      <td>...</td>\n      <td>...</td>\n      <td>...</td>\n      <td>...</td>\n      <td>...</td>\n      <td>...</td>\n      <td>...</td>\n      <td>...</td>\n      <td>...</td>\n      <td>...</td>\n      <td>...</td>\n      <td>...</td>\n      <td>...</td>\n      <td>...</td>\n      <td>...</td>\n      <td>...</td>\n    </tr>\n    <tr>\n      <th>658</th>\n      <td>CZ-FPZ</td>\n      <td>0.0</td>\n      <td>-122.997418</td>\n      <td>-110.224932</td>\n      <td>-97.453754</td>\n      <td>-84.704039</td>\n      <td>-71.965929</td>\n      <td>-59.239558</td>\n      <td>-46.515052</td>\n      <td>-33.812523</td>\n      <td>...</td>\n      <td>5.142774</td>\n      <td>0.721033</td>\n      <td>1.563562</td>\n      <td>2.417558</td>\n      <td>3.262976</td>\n      <td>4.119770</td>\n      <td>4.967891</td>\n      <td>5.827292</td>\n      <td>6.677922</td>\n      <td>7.539730</td>\n    </tr>\n    <tr>\n      <th>659</th>\n      <td>CZ-FPZ</td>\n      <td>0.0</td>\n      <td>-176.319144</td>\n      <td>-159.898675</td>\n      <td>-143.508742</td>\n      <td>-127.139496</td>\n      <td>-110.781078</td>\n      <td>-94.453602</td>\n      <td>-78.147157</td>\n      <td>-61.851821</td>\n      <td>...</td>\n      <td>4.179946</td>\n      <td>-2.313527</td>\n      <td>-1.497134</td>\n      <td>-0.684773</td>\n      <td>0.123487</td>\n      <td>0.927583</td>\n      <td>1.727457</td>\n      <td>2.523054</td>\n      <td>3.324318</td>\n      <td>4.111204</td>\n    </tr>\n    <tr>\n      <th>660</th>\n      <td>CZ-FPZ</td>\n      <td>1.0</td>\n      <td>-39.324483</td>\n      <td>-31.901778</td>\n      <td>-24.479401</td>\n      <td>-17.067386</td>\n      <td>-9.675750</td>\n      <td>-2.284504</td>\n      <td>5.086353</td>\n      <td>12.456830</td>\n      <td>...</td>\n      <td>8.889631</td>\n      <td>5.796779</td>\n      <td>6.172738</td>\n      <td>6.545657</td>\n      <td>6.915507</td>\n      <td>7.282262</td>\n      <td>7.655894</td>\n      <td>8.016382</td>\n      <td>8.373714</td>\n      <td>8.727878</td>\n    </tr>\n    <tr>\n      <th>661</th>\n      <td>CZ-FPZ</td>\n      <td>0.0</td>\n      <td>-143.138357</td>\n      <td>-94.604604</td>\n      <td>-46.129784</td>\n      <td>2.306009</td>\n      <td>50.692729</td>\n      <td>99.030381</td>\n      <td>147.309023</td>\n      <td>195.548758</td>\n      <td>...</td>\n      <td>10.681160</td>\n      <td>1.441736</td>\n      <td>2.009988</td>\n      <td>2.580733</td>\n      <td>3.153918</td>\n      <td>3.729487</td>\n      <td>4.307385</td>\n      <td>4.887550</td>\n      <td>5.469922</td>\n      <td>6.054436</td>\n    </tr>\n    <tr>\n      <th>662</th>\n      <td>CZ-FPZ</td>\n      <td>0.0</td>\n      <td>-219.823451</td>\n      <td>-190.186304</td>\n      <td>-160.581235</td>\n      <td>-131.008305</td>\n      <td>-101.467542</td>\n      <td>-71.958944</td>\n      <td>-42.482474</td>\n      <td>-13.038067</td>\n      <td>...</td>\n      <td>-11.352265</td>\n      <td>-14.751723</td>\n      <td>-14.271694</td>\n      <td>-13.784123</td>\n      <td>-13.308918</td>\n      <td>-12.825983</td>\n      <td>-12.355218</td>\n      <td>-11.886519</td>\n      <td>-11.409789</td>\n      <td>-10.944924</td>\n    </tr>\n  </tbody>\n</table>\n<p>663 rows × 3001 columns</p>\n</div>"
          },
          "metadata": {}
        }
      ],
      "execution_count": 1,
      "metadata": {
        "gather": {
          "logged": 1626775682576
        }
      }
    },
    {
      "cell_type": "code",
      "source": [
        "from azureml.core.experiment import Experiment\r\n",
        "from azureml.core.workspace import Workspace\r\n",
        "import pandas as pd\r\n",
        "\r\n",
        "ws = Workspace.from_config()\r\n",
        "experiment_name = 'test'\r\n",
        "\r\n",
        "experiment = Experiment(ws, experiment_name)\r\n",
        "\r\n",
        "output = {}\r\n",
        "output['Subscription ID'] = ws.subscription_id\r\n",
        "output['Workspace'] = ws.name\r\n",
        "output['Resource Group'] = ws.resource_group\r\n",
        "output['Location'] = ws.location\r\n",
        "output['Experiment Name'] = experiment.name\r\n",
        "pd.set_option('display.max_colwidth', -1)\r\n",
        "outputDf = pd.DataFrame(data = output, index= [''])\r\n",
        "outputDf.T"
      ],
      "outputs": [
        {
          "output_type": "execute_result",
          "execution_count": 2,
          "data": {
            "text/plain": "                                                     \nSubscription ID  05ed07e3-df05-46ff-8687-8555449022bb\nWorkspace        ml-resources                        \nResource Group   ml-resources                        \nLocation         eastus                              \nExperiment Name  test                                ",
            "text/html": "<div>\n<style scoped>\n    .dataframe tbody tr th:only-of-type {\n        vertical-align: middle;\n    }\n\n    .dataframe tbody tr th {\n        vertical-align: top;\n    }\n\n    .dataframe thead th {\n        text-align: right;\n    }\n</style>\n<table border=\"1\" class=\"dataframe\">\n  <thead>\n    <tr style=\"text-align: right;\">\n      <th></th>\n      <th></th>\n    </tr>\n  </thead>\n  <tbody>\n    <tr>\n      <th>Subscription ID</th>\n      <td>05ed07e3-df05-46ff-8687-8555449022bb</td>\n    </tr>\n    <tr>\n      <th>Workspace</th>\n      <td>ml-resources</td>\n    </tr>\n    <tr>\n      <th>Resource Group</th>\n      <td>ml-resources</td>\n    </tr>\n    <tr>\n      <th>Location</th>\n      <td>eastus</td>\n    </tr>\n    <tr>\n      <th>Experiment Name</th>\n      <td>test</td>\n    </tr>\n  </tbody>\n</table>\n</div>"
          },
          "metadata": {}
        }
      ],
      "execution_count": 2,
      "metadata": {
        "collapsed": true,
        "jupyter": {
          "source_hidden": false,
          "outputs_hidden": false
        },
        "nteract": {
          "transient": {
            "deleting": false
          }
        },
        "gather": {
          "logged": 1626775683056
        }
      }
    },
    {
      "cell_type": "code",
      "source": [
        "from azureml.core.compute import ComputeTarget, AmlCompute\r\n",
        "from azureml.core.compute_target import ComputeTargetException\r\n",
        "\r\n",
        "cpu_cluster_name = \"GPU-compute\"\r\n",
        "\r\n",
        "try:\r\n",
        "    compute_target = ComputeTarget(workspace=ws, name=cpu_cluster_name)\r\n",
        "    print(\"Found exsist cluster, Use it ! \")\r\n",
        "except ComputeTargetException:\r\n",
        "    compute_config = AmlCompute.provisioning_configuration(vm_size='STANDART_D2_V2', max_nodes=6)\r\n",
        "\r\n",
        "    compute_target = ComputeTarget.create(ws, cpu_cluster_name, compute_config)\r\n",
        "\r\n",
        "compute_target.wait_for_completion(show_output=True)\r\n"
      ],
      "outputs": [
        {
          "output_type": "stream",
          "name": "stdout",
          "text": [
            "Found exsist cluster, Use it ! \n",
            "Succeeded\n",
            "AmlCompute wait for completion finished\n",
            "\n",
            "Minimum number of nodes requested have been provisioned\n"
          ]
        }
      ],
      "execution_count": 3,
      "metadata": {
        "collapsed": true,
        "jupyter": {
          "source_hidden": false,
          "outputs_hidden": false
        },
        "nteract": {
          "transient": {
            "deleting": false
          }
        },
        "gather": {
          "logged": 1626775684267
        }
      }
    },
    {
      "cell_type": "code",
      "source": [
        "from azureml.train.automl import AutoMLConfig\r\n",
        "import logging\r\n",
        "\r\n",
        "\r\n",
        "automl_settings = {\r\n",
        "    \"experiment_timeout_hours\": 0.3,\r\n",
        "    \"enable_early_stopping\": True,\r\n",
        "    \"iteration_timeout_minutes\": 5,\r\n",
        "    \"max_concurrent_iterations\": 1,\r\n",
        "    \"max_cores_per_iteration\": 1,\r\n",
        "    \"featurization\": 'auto',\r\n",
        "    \"verbosity\": logging.INFO,\r\n",
        "}\r\n",
        "\r\n",
        "automl_config = AutoMLConfig(task = 'classification',\r\n",
        "                             primary_metric= 'AUC_weighted',\r\n",
        "                             compute_target=compute_target,\r\n",
        "                             blocked_models=['TensorFlowLinearClassifier'],\r\n",
        "                             label_column_name = '0',\r\n",
        "                             training_data = dataset,\r\n",
        "                             n_cross_validations=2,\r\n",
        "                             **automl_settings\r\n",
        "                            )\r\n"
      ],
      "outputs": [],
      "execution_count": 4,
      "metadata": {
        "collapsed": true,
        "jupyter": {
          "source_hidden": false,
          "outputs_hidden": false
        },
        "nteract": {
          "transient": {
            "deleting": false
          }
        },
        "gather": {
          "logged": 1626775684410
        }
      }
    },
    {
      "cell_type": "code",
      "source": [
        "remote_run = experiment.submit(automl_config, show_output = False)"
      ],
      "outputs": [
        {
          "output_type": "error",
          "ename": "NameError",
          "evalue": "name 'experiment' is not defined",
          "traceback": [
            "\u001b[0;31m---------------------------------------------------------------------------\u001b[0m",
            "\u001b[0;31mNameError\u001b[0m                                 Traceback (most recent call last)",
            "\u001b[0;32m<ipython-input-6-6114a87b3c80>\u001b[0m in \u001b[0;36m<module>\u001b[0;34m\u001b[0m\n\u001b[0;32m----> 1\u001b[0;31m \u001b[0mremote_run\u001b[0m \u001b[0;34m=\u001b[0m \u001b[0mexperiment\u001b[0m\u001b[0;34m.\u001b[0m\u001b[0msubmit\u001b[0m\u001b[0;34m(\u001b[0m\u001b[0mautoml_config\u001b[0m\u001b[0;34m,\u001b[0m \u001b[0mshow_output\u001b[0m \u001b[0;34m=\u001b[0m \u001b[0;32mFalse\u001b[0m\u001b[0;34m)\u001b[0m\u001b[0;34m\u001b[0m\u001b[0;34m\u001b[0m\u001b[0m\n\u001b[0m",
            "\u001b[0;31mNameError\u001b[0m: name 'experiment' is not defined"
          ]
        }
      ],
      "execution_count": 6,
      "metadata": {
        "collapsed": true,
        "jupyter": {
          "source_hidden": false,
          "outputs_hidden": false
        },
        "nteract": {
          "transient": {
            "deleting": false
          }
        },
        "gather": {
          "logged": 1626775706567
        }
      }
    },
    {
      "cell_type": "code",
      "source": [
        "from azureml.widgets import RunDetails\r\n",
        "remote_run.wait_for_completion(show_output=True)\r\n"
      ],
      "outputs": [
        {
          "output_type": "error",
          "ename": "NameError",
          "evalue": "name 'remote_run' is not defined",
          "traceback": [
            "\u001b[0;31m---------------------------------------------------------------------------\u001b[0m",
            "\u001b[0;31mNameError\u001b[0m                                 Traceback (most recent call last)",
            "\u001b[0;32m<ipython-input-5-549b22b50767>\u001b[0m in \u001b[0;36m<module>\u001b[0;34m\u001b[0m\n\u001b[1;32m      1\u001b[0m \u001b[0;32mfrom\u001b[0m \u001b[0mazureml\u001b[0m\u001b[0;34m.\u001b[0m\u001b[0mwidgets\u001b[0m \u001b[0;32mimport\u001b[0m \u001b[0mRunDetails\u001b[0m\u001b[0;34m\u001b[0m\u001b[0;34m\u001b[0m\u001b[0m\n\u001b[0;32m----> 2\u001b[0;31m \u001b[0mremote_run\u001b[0m\u001b[0;34m.\u001b[0m\u001b[0mwait_for_completion\u001b[0m\u001b[0;34m(\u001b[0m\u001b[0mshow_output\u001b[0m\u001b[0;34m=\u001b[0m\u001b[0;32mTrue\u001b[0m\u001b[0;34m)\u001b[0m\u001b[0;34m\u001b[0m\u001b[0;34m\u001b[0m\u001b[0m\n\u001b[0m",
            "\u001b[0;31mNameError\u001b[0m: name 'remote_run' is not defined"
          ]
        }
      ],
      "execution_count": 5,
      "metadata": {
        "collapsed": true,
        "jupyter": {
          "source_hidden": false,
          "outputs_hidden": false
        },
        "nteract": {
          "transient": {
            "deleting": false
          }
        },
        "gather": {
          "logged": 1626777450875
        }
      }
    },
    {
      "cell_type": "code",
      "source": [
        "best_run, fitted_model = remote_run.get_output()\r\n",
        "print(best_run)\r\n",
        "print(fitted_model)"
      ],
      "outputs": [
        {
          "output_type": "error",
          "ename": "NameError",
          "evalue": "name 'remote_run' is not defined",
          "traceback": [
            "\u001b[0;31m---------------------------------------------------------------------------\u001b[0m",
            "\u001b[0;31mNameError\u001b[0m                                 Traceback (most recent call last)",
            "\u001b[0;32m<ipython-input-4-0c1d59c9eaaa>\u001b[0m in \u001b[0;36m<module>\u001b[0;34m\u001b[0m\n\u001b[0;32m----> 1\u001b[0;31m \u001b[0mbest_run\u001b[0m\u001b[0;34m,\u001b[0m \u001b[0mfitted_model\u001b[0m \u001b[0;34m=\u001b[0m \u001b[0mremote_run\u001b[0m\u001b[0;34m.\u001b[0m\u001b[0mget_output\u001b[0m\u001b[0;34m(\u001b[0m\u001b[0;34m)\u001b[0m\u001b[0;34m\u001b[0m\u001b[0;34m\u001b[0m\u001b[0m\n\u001b[0m\u001b[1;32m      2\u001b[0m \u001b[0mprint\u001b[0m\u001b[0;34m(\u001b[0m\u001b[0mbest_run\u001b[0m\u001b[0;34m)\u001b[0m\u001b[0;34m\u001b[0m\u001b[0;34m\u001b[0m\u001b[0m\n\u001b[1;32m      3\u001b[0m \u001b[0mprint\u001b[0m\u001b[0;34m(\u001b[0m\u001b[0mfitted_model\u001b[0m\u001b[0;34m)\u001b[0m\u001b[0;34m\u001b[0m\u001b[0;34m\u001b[0m\u001b[0m\n",
            "\u001b[0;31mNameError\u001b[0m: name 'remote_run' is not defined"
          ]
        }
      ],
      "execution_count": 4,
      "metadata": {
        "collapsed": true,
        "jupyter": {
          "source_hidden": false,
          "outputs_hidden": false
        },
        "nteract": {
          "transient": {
            "deleting": false
          }
        },
        "gather": {
          "logged": 1626777482326
        }
      }
    },
    {
      "cell_type": "code",
      "source": [
        "from azureml.widgets import RunDetails\r\n",
        "RunDetails(remote_run).show() "
      ],
      "outputs": [
        {
          "output_type": "error",
          "ename": "NameError",
          "evalue": "name 'remote_run' is not defined",
          "traceback": [
            "\u001b[0;31m---------------------------------------------------------------------------\u001b[0m",
            "\u001b[0;31mNameError\u001b[0m                                 Traceback (most recent call last)",
            "\u001b[0;32m<ipython-input-3-48f3051b8cf3>\u001b[0m in \u001b[0;36m<module>\u001b[0;34m\u001b[0m\n\u001b[1;32m      1\u001b[0m \u001b[0;32mfrom\u001b[0m \u001b[0mazureml\u001b[0m\u001b[0;34m.\u001b[0m\u001b[0mwidgets\u001b[0m \u001b[0;32mimport\u001b[0m \u001b[0mRunDetails\u001b[0m\u001b[0;34m\u001b[0m\u001b[0;34m\u001b[0m\u001b[0m\n\u001b[0;32m----> 2\u001b[0;31m \u001b[0mRunDetails\u001b[0m\u001b[0;34m(\u001b[0m\u001b[0mremote_run\u001b[0m\u001b[0;34m)\u001b[0m\u001b[0;34m.\u001b[0m\u001b[0mshow\u001b[0m\u001b[0;34m(\u001b[0m\u001b[0;34m)\u001b[0m\u001b[0;34m\u001b[0m\u001b[0;34m\u001b[0m\u001b[0m\n\u001b[0m",
            "\u001b[0;31mNameError\u001b[0m: name 'remote_run' is not defined"
          ]
        }
      ],
      "execution_count": 3,
      "metadata": {
        "collapsed": true,
        "jupyter": {
          "source_hidden": false,
          "outputs_hidden": false
        },
        "nteract": {
          "transient": {
            "deleting": false
          }
        },
        "gather": {
          "logged": 1626777482545
        }
      }
    },
    {
      "cell_type": "code",
      "source": [
        "# Wait for the best model explanation run to complete\r\n",
        "from azureml.interpret import ExplanationClient\r\n",
        "from azureml.core.run import Run\r\n",
        "\r\n",
        "model_explainability_run_id = remote_run.id + \"_\" + \"ModelExplain\"\r\n",
        "print(model_explainability_run_id)\r\n",
        "model_explainability_run = Run(experiment=experiment, run_id=model_explainability_run_id)\r\n",
        "model_explainability_run.wait_for_completion()\r\n",
        "\r\n",
        "# Get the best run object\r\n",
        "best_run, fitted_model = remote_run.get_output()"
      ],
      "outputs": [
        {
          "output_type": "error",
          "ename": "NameError",
          "evalue": "name 'remote_run' is not defined",
          "traceback": [
            "\u001b[0;31m---------------------------------------------------------------------------\u001b[0m",
            "\u001b[0;31mNameError\u001b[0m                                 Traceback (most recent call last)",
            "\u001b[0;32m<ipython-input-2-f926bb18cf06>\u001b[0m in \u001b[0;36m<module>\u001b[0;34m\u001b[0m\n\u001b[1;32m      3\u001b[0m \u001b[0;32mfrom\u001b[0m \u001b[0mazureml\u001b[0m\u001b[0;34m.\u001b[0m\u001b[0mcore\u001b[0m\u001b[0;34m.\u001b[0m\u001b[0mrun\u001b[0m \u001b[0;32mimport\u001b[0m \u001b[0mRun\u001b[0m\u001b[0;34m\u001b[0m\u001b[0;34m\u001b[0m\u001b[0m\n\u001b[1;32m      4\u001b[0m \u001b[0;34m\u001b[0m\u001b[0m\n\u001b[0;32m----> 5\u001b[0;31m \u001b[0mmodel_explainability_run_id\u001b[0m \u001b[0;34m=\u001b[0m \u001b[0mremote_run\u001b[0m\u001b[0;34m.\u001b[0m\u001b[0mid\u001b[0m \u001b[0;34m+\u001b[0m \u001b[0;34m\"_\"\u001b[0m \u001b[0;34m+\u001b[0m \u001b[0;34m\"ModelExplain\"\u001b[0m\u001b[0;34m\u001b[0m\u001b[0;34m\u001b[0m\u001b[0m\n\u001b[0m\u001b[1;32m      6\u001b[0m \u001b[0mprint\u001b[0m\u001b[0;34m(\u001b[0m\u001b[0mmodel_explainability_run_id\u001b[0m\u001b[0;34m)\u001b[0m\u001b[0;34m\u001b[0m\u001b[0;34m\u001b[0m\u001b[0m\n\u001b[1;32m      7\u001b[0m \u001b[0mmodel_explainability_run\u001b[0m \u001b[0;34m=\u001b[0m \u001b[0mRun\u001b[0m\u001b[0;34m(\u001b[0m\u001b[0mexperiment\u001b[0m\u001b[0;34m=\u001b[0m\u001b[0mexperiment\u001b[0m\u001b[0;34m,\u001b[0m \u001b[0mrun_id\u001b[0m\u001b[0;34m=\u001b[0m\u001b[0mmodel_explainability_run_id\u001b[0m\u001b[0;34m)\u001b[0m\u001b[0;34m\u001b[0m\u001b[0;34m\u001b[0m\u001b[0m\n",
            "\u001b[0;31mNameError\u001b[0m: name 'remote_run' is not defined"
          ]
        }
      ],
      "execution_count": 2,
      "metadata": {
        "collapsed": true,
        "jupyter": {
          "source_hidden": false,
          "outputs_hidden": false
        },
        "nteract": {
          "transient": {
            "deleting": false
          }
        },
        "gather": {
          "logged": 1626777876789
        }
      }
    },
    {
      "cell_type": "code",
      "source": [
        "from azureml.interpret import ExplanationClient\r\n",
        "\r\n",
        "client = ExplanationClient.from_run(best_run)\r\n",
        "engineered_explanations = client.download_model_explanation(raw=True)\r\n",
        "exp_data = engineered_explanations.get_feature_importance_dict()\r\n",
        "exp_data"
      ],
      "outputs": [
        {
          "output_type": "stream",
          "name": "stderr",
          "text": [
            "INFO:interpret_community.common.explanation_utils:Using default datastore for uploads\n"
          ]
        },
        {
          "output_type": "execute_result",
          "execution_count": 12,
          "data": {
            "text/plain": "{'1': 2.9673585397336733,\n '11': 0.781907549850524,\n '2': 0.3294466805453736,\n '16': 0.13722030648752578,\n '13': 0.09904104862152553,\n '18': 0.08421913492651208,\n '30': 0.06983788158473193,\n '20': 0.05692642266060196,\n '7': 0.05460187231500641,\n '19': 0.04347004612871471,\n '25': 0.03554686948453185,\n '17': 0.03288275720215399,\n '14': 0.030759556331662954,\n '6': 0.028817308650450898,\n '8': 0.02830905862150438,\n '29': 0.02783489248575864,\n '21': 0.025339144507992815,\n '5': 0.020264911157519102,\n '10': 0.017044048824108038,\n '12': 0.015918953485571336,\n '661': 0.013675753290176899,\n '3': 0.013082010618529052,\n '72': 0.012582741703025023,\n '2540': 0.01097174745131686,\n '41': 0.008140257780679372,\n '2428': 0.007992207675703205,\n '9': 0.007111175556078415,\n '2502': 0.007053885857412504,\n '45': 0.006150837214075781,\n '57': 0.005905960148763059,\n '1062': 0.005832858267939741,\n '1762': 0.0057879186915528935,\n '1631': 0.00556366025424542,\n '4': 0.005501617058488579,\n '40': 0.005380561520165076,\n '611': 0.00532685624022643,\n '46': 0.005273827691672248,\n '1406': 0.005214196359006542,\n '750': 0.0052131956482628855,\n '2338': 0.004937439650562723,\n '741': 0.004890996166387889,\n '957': 0.004817865043666139,\n '2891': 0.004632850043472161,\n '27': 0.00456787318326801,\n '1559': 0.004455302531505859,\n '2519': 0.004328350405803987,\n '23': 0.004327059327270993,\n '1370': 0.004208841644797865,\n '345': 0.004154252954630062,\n '955': 0.004117770719163751,\n '106': 0.004067465355734949,\n '28': 0.004003393772007867,\n '318': 0.0039304920577034165,\n '15': 0.0038925923260204986,\n '38': 0.0038168817797914942,\n '73': 0.003688839313940467,\n '1070': 0.0036233092360034875,\n '1436': 0.003614080850037084,\n '1722': 0.0036128041661762918,\n '2489': 0.0035557262709444396,\n '1501': 0.003532496001077732,\n '977': 0.003454337029573257,\n '501': 0.0034518631269530764,\n '1748': 0.00342973416066185,\n '74': 0.003407496847545321,\n '2081': 0.0033981472811989042,\n '24': 0.0033931370673068984,\n '42': 0.003385407080719414,\n '2989': 0.0033677336834441146,\n '36': 0.003351435115071451,\n '49': 0.0033458328111059155,\n '71': 0.0032957782751779174,\n '918': 0.0032705643615015645,\n '34': 0.003249955354550881,\n '2071': 0.0031942529062551615,\n '1654': 0.003181842347604883,\n '1006': 0.0031812465223175585,\n '2300': 0.003176105965175311,\n '43': 0.003131439289999659,\n '35': 0.0030655038482600137,\n '91': 0.0030562583686972403,\n '56': 0.003053593602707383,\n '2331': 0.0029924128574647046,\n '146': 0.002975657183498065,\n '1774': 0.002965302559019832,\n '121': 0.0029425719673399,\n '805': 0.002939994229618951,\n '388': 0.002939532928990646,\n '2820': 0.0029210146394274194,\n '1471': 0.0029072754135605634,\n '1001': 0.002856402091628532,\n '600': 0.002818227422269283,\n '1371': 0.0027634171901648533,\n '420': 0.0026970156500760343,\n '125': 0.0026815693321357694,\n '148': 0.002662172707637425,\n '985': 0.0026488293164634927,\n '58': 0.00264646200505825,\n '291': 0.0025822431318329557,\n '2351': 0.0024989434718431206}"
          },
          "metadata": {}
        }
      ],
      "execution_count": 12,
      "metadata": {
        "collapsed": true,
        "jupyter": {
          "source_hidden": false,
          "outputs_hidden": false
        },
        "nteract": {
          "transient": {
            "deleting": false
          }
        },
        "gather": {
          "logged": 1626777942963
        }
      }
    },
    {
      "cell_type": "code",
      "source": [
        "best_run, fitted_model = remote_run.get_output()"
      ],
      "outputs": [
        {
          "output_type": "stream",
          "name": "stderr",
          "text": [
            "WARNING:root:The version of the SDK does not match the version the model was trained on.\n",
            "WARNING:root:The consistency in the result may not be guaranteed.\n",
            "WARNING:root:Package:azureml-automl-core, training version:1.32.0, current version:1.30.0\n",
            "Package:azureml-automl-runtime, training version:1.32.0, current version:1.30.0\n",
            "Package:azureml-core, training version:1.32.0, current version:1.30.0\n",
            "Package:azureml-dataprep, training version:2.18.0, current version:2.15.1\n",
            "Package:azureml-dataprep-native, training version:36.0.0, current version:33.0.0\n",
            "Package:azureml-dataprep-rslex, training version:1.16.1, current version:1.13.0\n",
            "Package:azureml-dataset-runtime, training version:1.32.0, current version:1.30.0\n",
            "Package:azureml-defaults, training version:1.32.0, current version:1.30.0\n",
            "Package:azureml-interpret, training version:1.32.0, current version:1.30.0\n",
            "Package:azureml-mlflow, training version:1.32.0, current version:1.30.0\n",
            "Package:azureml-pipeline-core, training version:1.32.0, current version:1.30.0\n",
            "Package:azureml-telemetry, training version:1.32.0, current version:1.30.0\n",
            "Package:azureml-train-automl-client, training version:1.32.0, current version:1.30.0\n",
            "Package:azureml-train-automl-runtime, training version:1.32.0, current version:1.30.0\n",
            "WARNING:root:Please ensure the version of your local conda dependencies match the version on which your model was trained in order to properly retrieve your model.\n"
          ]
        }
      ],
      "execution_count": 13,
      "metadata": {
        "collapsed": true,
        "jupyter": {
          "source_hidden": false,
          "outputs_hidden": false
        },
        "nteract": {
          "transient": {
            "deleting": false
          }
        },
        "gather": {
          "logged": 1626777954328
        }
      }
    },
    {
      "cell_type": "code",
      "source": [
        "model_name = best_run.properties['model_name']\r\n",
        "\r\n",
        "script_file_name = 'inference/score.py'\r\n",
        "\r\n",
        "best_run.download_file('outputs/scoring_file_v_1_0_0.py', 'inference/score.py')"
      ],
      "outputs": [],
      "execution_count": 15,
      "metadata": {
        "collapsed": true,
        "jupyter": {
          "source_hidden": false,
          "outputs_hidden": false
        },
        "nteract": {
          "transient": {
            "deleting": false
          }
        },
        "gather": {
          "logged": 1626777984300
        }
      }
    }
  ],
  "metadata": {
    "kernelspec": {
      "name": "python3-azureml",
      "language": "python",
      "display_name": "Python 3.6 - AzureML"
    },
    "language_info": {
      "name": "python",
      "version": "3.6.9",
      "mimetype": "text/x-python",
      "codemirror_mode": {
        "name": "ipython",
        "version": 3
      },
      "pygments_lexer": "ipython3",
      "nbconvert_exporter": "python",
      "file_extension": ".py"
    },
    "nteract": {
      "version": "nteract-front-end@1.0.0"
    },
    "kernel_info": {
      "name": "python3-azureml"
    },
    "microsoft": {
      "host": {
        "AzureML": {
          "notebookHasBeenCompleted": true
        }
      }
    }
  },
  "nbformat": 4,
  "nbformat_minor": 2
}