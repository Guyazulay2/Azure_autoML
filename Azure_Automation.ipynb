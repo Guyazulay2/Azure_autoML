{
  "cells": [
    {
      "cell_type": "code",
      "execution_count": 6,
      "source": [
        "from azureml.core import Workspace, Dataset\n",
        "\n",
        "\n",
        "subscription_id = '$ID'\n",
        "resource_group = 'ML-resources'\n",
        "workspace_name = 'ML-resources'\n",
        "\n",
        "workspace = Workspace(subscription_id, resource_group, workspace_name)\n",
        "\n",
        "dataset = Dataset.get_by_name(workspace, name='CZ-FPZ_train_data')\n",
        "dataset.to_pandas_dataframe()\n",
        "\n",
        "\n",
        "workspace.write_config(path=\"/home/yossi/Desktop/new\", file_name=\"config.json\")"
      ],
      "outputs": [],
      "metadata": {
        "gather": {
          "logged": 1626791550944
        }
      }
    },
    {
      "cell_type": "code",
      "execution_count": 7,
      "source": [
        "from azureml.core.experiment import Experiment\n",
        "from azureml.core.workspace import Workspace\n",
        "import pandas as pd\n",
        "\n",
        "ws = Workspace.from_config()\n",
        "experiment_name = 'test'\n",
        "\n",
        "experiment = Experiment(ws, experiment_name)\n",
        "\n",
        "output = {}\n",
        "output['Subscription ID'] = ws.subscription_id\n",
        "output['Workspace'] = ws.name\n",
        "output['Resource Group'] = ws.resource_group\n",
        "output['Location'] = ws.location\n",
        "output['Experiment Name'] = experiment.name\n",
        "pd.set_option('display.max_colwidth', -1)\n",
        "outputDf = pd.DataFrame(data = output, index= [''])\n",
        "outputDf.T"
      ],
      "outputs": [
        {
          "output_type": "stream",
          "name": "stderr",
          "text": [
            "/home/yossi/.virtualenvs/cv/lib/python3.6/site-packages/ipykernel_launcher.py:16: FutureWarning: Passing a negative integer is deprecated in version 1.0 and will not be supported in future version. Instead, use None to not limit the column width.\n",
            "  app.launch_new_instance()\n"
          ]
        },
        {
          "output_type": "execute_result",
          "data": {
            "text/plain": [
              "                                                     \n",
              "Subscription ID  05ed07e3-df05-46ff-8687-8555449022bb\n",
              "Workspace        ML-resources                        \n",
              "Resource Group   ML-resources                        \n",
              "Location         eastus                              \n",
              "Experiment Name  test                                "
            ],
            "text/html": [
              "<div>\n",
              "<style scoped>\n",
              "    .dataframe tbody tr th:only-of-type {\n",
              "        vertical-align: middle;\n",
              "    }\n",
              "\n",
              "    .dataframe tbody tr th {\n",
              "        vertical-align: top;\n",
              "    }\n",
              "\n",
              "    .dataframe thead th {\n",
              "        text-align: right;\n",
              "    }\n",
              "</style>\n",
              "<table border=\"1\" class=\"dataframe\">\n",
              "  <thead>\n",
              "    <tr style=\"text-align: right;\">\n",
              "      <th></th>\n",
              "      <th></th>\n",
              "    </tr>\n",
              "  </thead>\n",
              "  <tbody>\n",
              "    <tr>\n",
              "      <th>Subscription ID</th>\n",
              "      <td>05ed07e3-df05-46ff-8687-8555449022bb</td>\n",
              "    </tr>\n",
              "    <tr>\n",
              "      <th>Workspace</th>\n",
              "      <td>ML-resources</td>\n",
              "    </tr>\n",
              "    <tr>\n",
              "      <th>Resource Group</th>\n",
              "      <td>ML-resources</td>\n",
              "    </tr>\n",
              "    <tr>\n",
              "      <th>Location</th>\n",
              "      <td>eastus</td>\n",
              "    </tr>\n",
              "    <tr>\n",
              "      <th>Experiment Name</th>\n",
              "      <td>test</td>\n",
              "    </tr>\n",
              "  </tbody>\n",
              "</table>\n",
              "</div>"
            ]
          },
          "metadata": {},
          "execution_count": 7
        }
      ],
      "metadata": {
        "collapsed": true,
        "jupyter": {
          "source_hidden": false,
          "outputs_hidden": false
        },
        "nteract": {
          "transient": {
            "deleting": false
          }
        },
        "gather": {
          "logged": 1626791551525
        }
      }
    },
    {
      "cell_type": "code",
      "execution_count": 8,
      "source": [
        "from azureml.core.compute import ComputeTarget, AmlCompute\n",
        "from azureml.core.compute_target import ComputeTargetException\n",
        "\n",
        "cpu_cluster_name = \"GPU-compute\"\n",
        "\n",
        "try:\n",
        "    compute_target = ComputeTarget(workspace=ws, name=cpu_cluster_name)\n",
        "    print(\"Found exsist cluster, Use it ! \")\n",
        "except ComputeTargetException:\n",
        "    compute_config = AmlCompute.provisioning_configuration(vm_size='STANDART_D2_V2', max_nodes=6)\n",
        "\n",
        "    compute_target = ComputeTarget.create(ws, cpu_cluster_name, compute_config)\n",
        "\n",
        "compute_target.wait_for_completion(show_output=True)\n"
      ],
      "outputs": [
        {
          "output_type": "stream",
          "name": "stdout",
          "text": [
            "Found exsist cluster, Use it ! \n",
            "Succeeded\n",
            "AmlCompute wait for completion finished\n",
            "\n",
            "Minimum number of nodes requested have been provisioned\n"
          ]
        }
      ],
      "metadata": {
        "collapsed": true,
        "jupyter": {
          "source_hidden": false,
          "outputs_hidden": false
        },
        "nteract": {
          "transient": {
            "deleting": false
          }
        },
        "gather": {
          "logged": 1626791552442
        }
      }
    },
    {
      "cell_type": "code",
      "execution_count": 12,
      "source": [
        "from azureml.train.automl import AutoMLConfig\n",
        "import logging\n",
        "\n",
        "\n",
        "automl_settings = {\n",
        "    \"experiment_timeout_hours\": 0.3,\n",
        "    \"enable_early_stopping\": True,\n",
        "    \"iteration_timeout_minutes\": 5,\n",
        "    \"max_concurrent_iterations\": 1,\n",
        "    \"max_cores_per_iteration\": 1,\n",
        "    \"featurization\": 'auto',\n",
        "    \"verbosity\": logging.INFO,\n",
        "}\n",
        "\n",
        "automl_config = AutoMLConfig(task = 'classification',\n",
        "                             primary_metric= 'AUC_weighted',\n",
        "                             compute_target=compute_target,\n",
        "                             blocked_models=['TensorFlowLinearClassifier'],\n",
        "                             label_column_name = '0',\n",
        "                             training_data = dataset,\n",
        "                             n_cross_validations=2,\n",
        "                             **automl_settings\n",
        "                            )\n"
      ],
      "outputs": [],
      "metadata": {
        "collapsed": true,
        "jupyter": {
          "source_hidden": false,
          "outputs_hidden": false
        },
        "nteract": {
          "transient": {
            "deleting": false
          }
        },
        "gather": {
          "logged": 1626791552589
        }
      }
    },
    {
      "cell_type": "code",
      "execution_count": 13,
      "source": [
        "remote_run = experiment.submit(automl_config, show_output = False)"
      ],
      "outputs": [
        {
          "output_type": "stream",
          "name": "stdout",
          "text": [
            "Submitting remote run.\n"
          ]
        },
        {
          "output_type": "display_data",
          "data": {
            "text/plain": [
              "<IPython.core.display.HTML object>"
            ],
            "text/html": [
              "<table style=\"width:100%\"><tr><th>Experiment</th><th>Id</th><th>Type</th><th>Status</th><th>Details Page</th><th>Docs Page</th></tr><tr><td>test</td><td>AutoML_fc451b00-3f7a-4a05-be2b-af4a56e57153</td><td>automl</td><td>NotStarted</td><td><a href=\"https://ml.azure.com/runs/AutoML_fc451b00-3f7a-4a05-be2b-af4a56e57153?wsid=/subscriptions/05ed07e3-df05-46ff-8687-8555449022bb/resourcegroups/ML-resources/workspaces/ML-resources&amp;tid=2e3734a5-13a8-4988-9236-1c8efdf5cdca\" target=\"_blank\" rel=\"noopener\">Link to Azure Machine Learning studio</a></td><td><a href=\"https://docs.microsoft.com/en-us/python/api/overview/azure/ml/intro?view=azure-ml-py\" target=\"_blank\" rel=\"noopener\">Link to Documentation</a></td></tr></table>"
            ]
          },
          "metadata": {}
        }
      ],
      "metadata": {
        "collapsed": true,
        "jupyter": {
          "source_hidden": false,
          "outputs_hidden": false
        },
        "nteract": {
          "transient": {
            "deleting": false
          }
        },
        "gather": {
          "logged": 1626791578741
        }
      }
    },
    {
      "cell_type": "code",
      "execution_count": 15,
      "source": [
        "from azureml.widgets import RunDetails\n",
        "remote_run.wait_for_completion(show_output=True)\n"
      ],
      "outputs": [
        {
          "output_type": "display_data",
          "data": {
            "text/plain": [
              "<IPython.core.display.HTML object>"
            ],
            "text/html": [
              "<table style=\"width:100%\"><tr><th>Experiment</th><th>Id</th><th>Type</th><th>Status</th><th>Details Page</th><th>Docs Page</th></tr><tr><td>test</td><td>AutoML_fc451b00-3f7a-4a05-be2b-af4a56e57153</td><td>automl</td><td>NotStarted</td><td><a href=\"https://ml.azure.com/runs/AutoML_fc451b00-3f7a-4a05-be2b-af4a56e57153?wsid=/subscriptions/05ed07e3-df05-46ff-8687-8555449022bb/resourcegroups/ML-resources/workspaces/ML-resources&amp;tid=2e3734a5-13a8-4988-9236-1c8efdf5cdca\" target=\"_blank\" rel=\"noopener\">Link to Azure Machine Learning studio</a></td><td><a href=\"https://docs.microsoft.com/en-us/python/api/overview/azure/ml/intro?view=azure-ml-py\" target=\"_blank\" rel=\"noopener\">Link to Documentation</a></td></tr></table>"
            ]
          },
          "metadata": {}
        },
        {
          "output_type": "stream",
          "name": "stdout",
          "text": [
            "\n",
            "Current status: FeaturesGeneration. Generating features for the dataset.\n",
            "Current status: DatasetFeaturization. Beginning to fit featurizers and featurize the dataset.\n",
            "Current status: DatasetCrossValidationSplit. Generating individually featurized CV splits.\n",
            "Current status: ModelSelection. Beginning model selection.\n",
            "\n",
            "****************************************************************************************************\n",
            "DATA GUARDRAILS: \n",
            "\n",
            "TYPE:         Class balancing detection\n",
            "STATUS:       PASSED\n",
            "DESCRIPTION:  Your inputs were analyzed, and all classes are balanced in your training data.\n",
            "              Learn more about imbalanced data: https://aka.ms/AutomatedMLImbalancedData\n",
            "\n",
            "****************************************************************************************************\n",
            "\n",
            "TYPE:         Missing feature values imputation\n",
            "STATUS:       PASSED\n",
            "DESCRIPTION:  No feature missing values were detected in the training data.\n",
            "              Learn more about missing value imputation: https://aka.ms/AutomatedMLFeaturization\n",
            "\n",
            "****************************************************************************************************\n",
            "\n",
            "TYPE:         High cardinality feature detection\n",
            "STATUS:       PASSED\n",
            "DESCRIPTION:  Your inputs were analyzed, and no high cardinality features were detected.\n",
            "              Learn more about high cardinality feature handling: https://aka.ms/AutomatedMLFeaturization\n",
            "\n",
            "****************************************************************************************************\n",
            "\n",
            "****************************************************************************************************\n",
            "ITERATION: The iteration being evaluated.\n",
            "PIPELINE: A summary description of the pipeline being evaluated.\n",
            "DURATION: Time taken for the current iteration.\n",
            "METRIC: The result of computing score on the fitted pipeline.\n",
            "BEST: The best observed score thus far.\n",
            "****************************************************************************************************\n",
            "\n",
            " ITERATION   PIPELINE                                       DURATION      METRIC      BEST\n",
            "         0   MaxAbsScaler LightGBM                          0:02:25       0.9999    0.9999\n",
            "         1   MaxAbsScaler XGBoostClassifier                 0:00:57       0.9987    0.9999\n",
            "         2   MinMaxScaler RandomForest                      0:00:51       0.9931    0.9999\n",
            "         3   RobustScaler ExtremeRandomTrees                0:00:51       0.8764    0.9999\n",
            "         4   MinMaxScaler RandomForest                      0:00:48       0.8612    0.9999\n",
            "         5   MinMaxScaler RandomForest                      0:00:49       0.9717    0.9999\n",
            "         6   StandardScalerWrapper RandomForest             0:00:51       0.8785    0.9999\n",
            "         7   MinMaxScaler ExtremeRandomTrees                0:00:52       0.9999    0.9999\n",
            "         8   MinMaxScaler ExtremeRandomTrees                0:00:51       1.0000    1.0000\n",
            "         9   SparseNormalizer KNN                           0:00:53       0.9050    1.0000\n",
            "        10   MinMaxScaler ExtremeRandomTrees                0:00:50       0.9979    1.0000\n",
            "        11   RobustScaler ExtremeRandomTrees                0:00:52       1.0000    1.0000\n",
            "        12   StandardScalerWrapper RandomForest             0:00:52       0.9087    1.0000\n",
            "        13   StandardScalerWrapper SGD                      0:00:50       0.9969    1.0000\n",
            "        14   RobustScaler RandomForest                      0:00:54       0.9977    1.0000\n"
          ]
        }
      ],
      "metadata": {
        "collapsed": true,
        "jupyter": {
          "source_hidden": false,
          "outputs_hidden": false
        },
        "nteract": {
          "transient": {
            "deleting": false
          }
        },
        "gather": {
          "logged": 1626781596202
        }
      }
    },
    {
      "cell_type": "code",
      "execution_count": 14,
      "source": [
        "best_run, fitted_model = remote_run.get_output()\n",
        "print(best_run)\n",
        "print(fitted_model)"
      ],
      "outputs": [
        {
          "output_type": "stream",
          "name": "stderr",
          "text": [
            "WARNING:root:The version of the SDK does not match the version the model was trained on.\n",
            "WARNING:root:The consistency in the result may not be guaranteed.\n",
            "WARNING:root:Package:azureml-automl-core, training version:1.32.0, current version:1.30.0\n",
            "Package:azureml-automl-runtime, training version:1.32.0, current version:1.30.0\n",
            "Package:azureml-core, training version:1.32.0, current version:1.30.0\n",
            "Package:azureml-dataprep, training version:2.18.0, current version:2.15.1\n",
            "Package:azureml-dataprep-native, training version:36.0.0, current version:33.0.0\n",
            "Package:azureml-dataprep-rslex, training version:1.16.1, current version:1.13.0\n",
            "Package:azureml-dataset-runtime, training version:1.32.0, current version:1.30.0\n",
            "Package:azureml-defaults, training version:1.32.0, current version:1.30.0\n",
            "Package:azureml-interpret, training version:1.32.0, current version:1.30.0\n",
            "Package:azureml-mlflow, training version:1.32.0, current version:1.30.0\n",
            "Package:azureml-pipeline-core, training version:1.32.0, current version:1.30.0\n",
            "Package:azureml-telemetry, training version:1.32.0, current version:1.30.0\n",
            "Package:azureml-train-automl-client, training version:1.32.0, current version:1.30.0\n",
            "Package:azureml-train-automl-runtime, training version:1.32.0, current version:1.30.0\n",
            "WARNING:root:Please ensure the version of your local conda dependencies match the version on which your model was trained in order to properly retrieve your model.\n"
          ]
        },
        {
          "output_type": "stream",
          "name": "stdout",
          "text": [
            "Run(Experiment: test,\n",
            "Id: AutoML_5af815de-4388-45c1-acd5-43987761bd80_8,\n",
            "Type: azureml.scriptrun,\n",
            "Status: Completed)\n",
            "Pipeline(memory=None,\n",
            "         steps=[('datatransformer',\n",
            "                 DataTransformer(enable_dnn=False, enable_feature_sweeping=True, feature_sweeping_config={}, feature_sweeping_timeout=86400, featurization_config=None, force_text_dnn=False, is_cross_validation=True, is_onnx_compatible=False, observer=None, task='classification', working_dir='/mnt/batch/tasks/shared/LS_root/mount...\n",
            "                 ExtraTreesClassifier(bootstrap=True, ccp_alpha=0.0,\n",
            "                                      class_weight=None, criterion='entropy',\n",
            "                                      max_depth=None, max_features=0.3,\n",
            "                                      max_leaf_nodes=None, max_samples=None,\n",
            "                                      min_impurity_decrease=0.0,\n",
            "                                      min_impurity_split=None,\n",
            "                                      min_samples_leaf=0.01,\n",
            "                                      min_samples_split=0.056842105263157895,\n",
            "                                      min_weight_fraction_leaf=0.0,\n",
            "                                      n_estimators=25, n_jobs=1, oob_score=True,\n",
            "                                      random_state=None, verbose=0,\n",
            "                                      warm_start=False))],\n",
            "         verbose=False)\n",
            "Y_transformer(['LabelEncoder', LabelEncoder()])\n"
          ]
        }
      ],
      "metadata": {
        "collapsed": true,
        "jupyter": {
          "source_hidden": false,
          "outputs_hidden": false
        },
        "nteract": {
          "transient": {
            "deleting": false
          }
        },
        "gather": {
          "logged": 1626793737652
        }
      }
    },
    {
      "cell_type": "code",
      "execution_count": null,
      "source": [
        "from azureml.widgets import RunDetails\n",
        "RunDetails(remote_run).show() "
      ],
      "outputs": [],
      "metadata": {
        "collapsed": true,
        "jupyter": {
          "source_hidden": false,
          "outputs_hidden": false
        },
        "nteract": {
          "transient": {
            "deleting": false
          }
        },
        "gather": {
          "logged": 1626782954632
        }
      }
    },
    {
      "cell_type": "code",
      "execution_count": null,
      "source": [
        "# Wait for the best model explanation run to complete\n",
        "from azureml.interpret import ExplanationClient\n",
        "from azureml.core.run import Run\n",
        "\n",
        "model_explainability_run_id = remote_run.id + \"_\" + \"ModelExplain\"\n",
        "print(model_explainability_run_id)\n",
        "model_explainability_run = Run(experiment=experiment, run_id=model_explainability_run_id)\n",
        "model_explainability_run.wait_for_completion()\n",
        "\n",
        "# Get the best run object\n",
        "best_run, fitted_model = remote_run.get_output()"
      ],
      "outputs": [],
      "metadata": {
        "collapsed": true,
        "jupyter": {
          "source_hidden": false,
          "outputs_hidden": false
        },
        "nteract": {
          "transient": {
            "deleting": false
          }
        },
        "gather": {
          "logged": 1626782966537
        }
      }
    },
    {
      "cell_type": "code",
      "execution_count": 17,
      "source": [
        "from azureml.interpret import ExplanationClient\n",
        "\n",
        "client = ExplanationClient.from_run(best_run)\n",
        "engineered_explanations = client.download_model_explanation(raw=True)\n",
        "exp_data = engineered_explanations.get_feature_importance_dict()\n",
        "exp_data"
      ],
      "outputs": [
        {
          "output_type": "stream",
          "name": "stderr",
          "text": [
            "INFO:interpret_community.common.explanation_utils:Using default datastore for uploads\n"
          ]
        },
        {
          "output_type": "execute_result",
          "data": {
            "text/plain": [
              "{'1': 3.1195239237208483,\n",
              " '11': 0.9576921939077883,\n",
              " '16': 0.21080253396620363,\n",
              " '2': 0.14229072156330308,\n",
              " '12': 0.09280525789454484,\n",
              " '19': 0.05877687099890361,\n",
              " '20': 0.04340358977976776,\n",
              " '17': 0.04223609096530152,\n",
              " '44': 0.03829680068156537,\n",
              " '6': 0.03708060619787783,\n",
              " '18': 0.029133883902313192,\n",
              " '8': 0.022081078508902716,\n",
              " '22': 0.02033526241368925,\n",
              " '4': 0.018055669640736897,\n",
              " '551': 0.017028574070391943,\n",
              " '3': 0.016872382330707498,\n",
              " '7': 0.015304176145918585,\n",
              " '950': 0.010193609548646003,\n",
              " '30': 0.008570607486689565,\n",
              " '72': 0.008560623786477168,\n",
              " '558': 0.008334545251654838,\n",
              " '2811': 0.00761028751993115,\n",
              " '2152': 0.007182729511165007,\n",
              " '1271': 0.007166770262938112,\n",
              " '482': 0.00704476698871651,\n",
              " '41': 0.006945140196169216,\n",
              " '74': 0.0068718762685341115,\n",
              " '1503': 0.006847063111725042,\n",
              " '2978': 0.006218675847241782,\n",
              " '524': 0.006178231083747953,\n",
              " '1041': 0.0059061932669785405,\n",
              " '553': 0.0052652163880884135,\n",
              " '5': 0.005248466271490359,\n",
              " '2340': 0.005213078336445543,\n",
              " '1391': 0.005118393479469747,\n",
              " '15': 0.00501622728298783,\n",
              " '1506': 0.004842168046521306,\n",
              " '1434': 0.004832872956906417,\n",
              " '1501': 0.004752787185292076,\n",
              " '1190': 0.004692170842286259,\n",
              " '2925': 0.00467072091919609,\n",
              " '2537': 0.0045005088710671996,\n",
              " '21': 0.0044833558829902205,\n",
              " '2291': 0.004465358441738119,\n",
              " '29': 0.004392675402239293,\n",
              " '503': 0.0043179638370775125,\n",
              " '510': 0.004313953032740725,\n",
              " '75': 0.004250530990396142,\n",
              " '2265': 0.004211824151245069,\n",
              " '1068': 0.004146234870453032,\n",
              " '787': 0.003949770668281809,\n",
              " '1431': 0.003933617266267991,\n",
              " '14': 0.003866423216505259,\n",
              " '31': 0.0038653710546399664,\n",
              " '2791': 0.003807091342245974,\n",
              " '2231': 0.003788514218050703,\n",
              " '1941': 0.003708280947105839,\n",
              " '2060': 0.003657230605610222,\n",
              " '1182': 0.0036436644288533903,\n",
              " '1381': 0.003597042233046847,\n",
              " '2136': 0.003531131441129383,\n",
              " '1225': 0.003529311879949131,\n",
              " '2280': 0.0034744570547318877,\n",
              " '1370': 0.0034395026235908527,\n",
              " '1578': 0.003431859023056036,\n",
              " '906': 0.003420935138140834,\n",
              " '2749': 0.0034124060555493895,\n",
              " '1400': 0.0033911280769080517,\n",
              " '1396': 0.0033890850609698247,\n",
              " '1199': 0.0033756623997395793,\n",
              " '2860': 0.003284530541700852,\n",
              " '28': 0.0032022431679741515,\n",
              " '2781': 0.0031970285588036056,\n",
              " '864': 0.003167871906648976,\n",
              " '1951': 0.0031102831197853936,\n",
              " '1410': 0.003106383498495644,\n",
              " '27': 0.0031010502258965633,\n",
              " '536': 0.003090924199715769,\n",
              " '2990': 0.0030875877387600823,\n",
              " '1623': 0.003073009028235194,\n",
              " '2530': 0.003063180629898664,\n",
              " '418': 0.0030553660817239595,\n",
              " '2595': 0.0030398481206128218,\n",
              " '533': 0.003023886858051126,\n",
              " '890': 0.002942254375872592,\n",
              " '2584': 0.0029084284644499067,\n",
              " '1341': 0.002906516806275167,\n",
              " '1521': 0.0028716399085365807,\n",
              " '2977': 0.0028069034470666284,\n",
              " '1281': 0.0027987169512252376,\n",
              " '1758': 0.0027982779998456425,\n",
              " '860': 0.0027871143511927704,\n",
              " '2290': 0.0027762304426091977,\n",
              " '1163': 0.002753876137435193,\n",
              " '2551': 0.0027137453796106346,\n",
              " '913': 0.0027070790254662106,\n",
              " '1421': 0.002689939518067026,\n",
              " '2787': 0.002677953201961915,\n",
              " '1916': 0.0026708108727546837,\n",
              " '2962': 0.002670795973224902}"
            ]
          },
          "metadata": {},
          "execution_count": 17
        }
      ],
      "metadata": {
        "collapsed": true,
        "jupyter": {
          "source_hidden": false,
          "outputs_hidden": false
        },
        "nteract": {
          "transient": {
            "deleting": false
          }
        },
        "gather": {
          "logged": 1626794119118
        }
      }
    },
    {
      "cell_type": "code",
      "execution_count": null,
      "source": [
        "best_run, fitted_model = remote_run.get_output()"
      ],
      "outputs": [],
      "metadata": {
        "collapsed": true,
        "jupyter": {
          "source_hidden": false,
          "outputs_hidden": false
        },
        "nteract": {
          "transient": {
            "deleting": false
          }
        },
        "gather": {
          "logged": 1626782981155
        }
      }
    },
    {
      "cell_type": "code",
      "execution_count": 24,
      "source": [
        "import os\n",
        "model_name = best_run.properties['model_name']\n",
        "\n",
        "script_file_name = 'inference/score.py'\n",
        "best_run.download_file('outputs/scoring_file_v_1_0_0.py', 'inference/score.py')\n",
        "model_dir = 'Model' # Local folder where the model will be stored temporarily\n",
        "if not os.path.isdir(model_dir):\n",
        "    os.mkdir(model_dir)\n",
        "    \n",
        "best_run.download_file('outputs/model.pkl', model_dir + '/model.pkl')\n"
      ],
      "outputs": [],
      "metadata": {
        "collapsed": true,
        "jupyter": {
          "source_hidden": false,
          "outputs_hidden": false
        },
        "nteract": {
          "transient": {
            "deleting": false
          }
        },
        "gather": {
          "logged": 1626794411942
        }
      }
    },
    {
      "cell_type": "code",
      "execution_count": 23,
      "source": [
        "description = 'AutoML Model trained on bank marketing data to predict if a client will subscribe to a term deposit'\n",
        "tags = None\n",
        "model = remote_run.register_model(model_name = model_name, description = description, tags = tags)\n",
        "\n",
        "print(remote_run.model_id) # This will be written to the script file later in the notebook.\n",
        "best_run.download_file('outputs/scoring_file_v_1_0_0.py', 'inference/score.py')\n"
      ],
      "outputs": [
        {
          "output_type": "stream",
          "name": "stdout",
          "text": [
            "AutoML5af815de48\n"
          ]
        }
      ],
      "metadata": {
        "collapsed": true,
        "jupyter": {
          "source_hidden": false,
          "outputs_hidden": false
        },
        "nteract": {
          "transient": {
            "deleting": false
          }
        },
        "gather": {
          "logged": 1626794409839
        }
      }
    }
  ],
  "metadata": {
    "kernelspec": {
      "name": "python3",
      "display_name": "Python 3.6.9 64-bit ('cv': virtualenvwrapper)"
    },
    "language_info": {
      "name": "python",
      "version": "3.6.9",
      "mimetype": "text/x-python",
      "codemirror_mode": {
        "name": "ipython",
        "version": 3
      },
      "pygments_lexer": "ipython3",
      "nbconvert_exporter": "python",
      "file_extension": ".py"
    },
    "nteract": {
      "version": "nteract-front-end@1.0.0"
    },
    "kernel_info": {
      "name": "python3-azureml"
    },
    "microsoft": {
      "host": {
        "AzureML": {
          "notebookHasBeenCompleted": true
        }
      }
    },
    "interpreter": {
      "hash": "53d5b29268f305ecefbb74387adfd7bd17087ee563bf0f0183bfca47fadb889e"
    }
  },
  "nbformat": 4,
  "nbformat_minor": 2
}
